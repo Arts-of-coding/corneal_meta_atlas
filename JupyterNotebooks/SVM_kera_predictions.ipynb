{
 "cells": [
  {
   "cell_type": "markdown",
   "id": "fc02f116",
   "metadata": {},
   "source": [
    "# SVM and SVM rejection \n",
    "\n"
   ]
  },
  {
   "cell_type": "code",
   "execution_count": 1,
   "id": "844657fd",
   "metadata": {},
   "outputs": [],
   "source": [
    "import os \n",
    "import numpy as np\n",
    "import pandas as pd\n",
    "import scanpy as sc\n",
    "import time as tm\n",
    "import seaborn as sns\n",
    "from sklearn.svm import LinearSVC\n",
    "import rpy2.robjects as robjects\n",
    "from sklearn.calibration import CalibratedClassifierCV\n",
    "from sklearn.metrics import confusion_matrix\n",
    "from scanpy import read_h5ad\n",
    "\n",
    "#os.chdir(\"\")"
   ]
  },
  {
   "cell_type": "markdown",
   "id": "89397400",
   "metadata": {},
   "source": [
    "## Defining the SVM and SVMrej functions:\n",
    "\n"
   ]
  },
  {
   "cell_type": "code",
   "execution_count": 2,
   "id": "a9877435",
   "metadata": {},
   "outputs": [],
   "source": [
    "def run_SVM(matrix_train, matrix_test, LabelsPathTrain, OutputDir):\n",
    "    '''\n",
    "    run baseline classifier: SVM\n",
    "    Wrapper script to run an SVM classifier with a linear kernel on a benchmark dataset with 5-fold cross validation,\n",
    "    outputs lists of true and predicted cell labels as csv files, as well as computation time.\n",
    "\n",
    "    Parameters:\n",
    "    matrix_train, matrix_test : Data matrix for training and testing data,\n",
    "        cells-genes matrix with cell unique barcodes as row names and gene names as column names.\n",
    "    LabelsPathTrain : Cell population annotations file path matching the training data (.csv).\n",
    "    OutputDir : Output directory defining the path of the exported file.\n",
    "    '''\n",
    "\n",
    "\n",
    "    # read the data\n",
    "    data_train = matrix_train\n",
    "    data_test = matrix_test\n",
    "    labels_train = pd.read_csv(LabelsPathTrain, header=0,index_col=None, sep=',')\n",
    "        \n",
    "\n",
    "    # normalise data\n",
    "    data_train = np.log1p(data_train)\n",
    "    data_test = np.log1p(data_test)  \n",
    "        \n",
    "    Classifier = LinearSVC()\n",
    "    pred = []\n",
    "    Classifier.fit(data_train, labels_train.values.ravel())\n",
    "\n",
    "    predicted = Classifier.predict(data_test)\n",
    "            \n",
    "    pred.extend(predicted)\n",
    "    pred = pd.DataFrame(pred)\n",
    "    pred.to_csv(str(OutputDir) + \"SVM_Pred_Labels.csv\", index =False)\n",
    "    \n",
    "    \n",
    "    "
   ]
  },
  {
   "cell_type": "code",
   "execution_count": 3,
   "id": "94c84ff2",
   "metadata": {},
   "outputs": [],
   "source": [
    "def run_SVMrej(matrix_train, matrix_test, LabelsPathTrain, OutputDir, Threshold = 0.7):\n",
    "    '''\n",
    "    run baseline classifier: SVM\n",
    "    Wrapper script to run an SVM classifier with a linear kernel on a benchmark dataset with 5-fold cross validation,\n",
    "    outputs lists of true and predicted cell labels as csv files, as well as computation time.\n",
    "  \n",
    "    Parameters\n",
    "    ----------\n",
    "    matrix_train, matrix_test : Data matrix for training and testing data,\n",
    "        cells-genes matrix with cell unique barcodes as row names and gene names as column names.\n",
    "    LabelsPathTrain : Cell population annotations file path matching the training data (.csv).\n",
    "    OutputDir : Output directory defining the path of the exported file.\n",
    "    Threshold : Threshold used when rejecting the cells, default is 0.7.\n",
    "    '''\n",
    "\n",
    "\n",
    "    # read the data\n",
    "    data_train = matrix_train\n",
    "    data_test = matrix_test\n",
    "    labels_train = pd.read_csv(LabelsPathTrain, header=0,index_col=None, sep=',')\n",
    "    \n",
    "    # Set threshold for rejecting cells\n",
    "    Threshold = 0.7\n",
    "\n",
    "    # normalise data\n",
    "    data_train = np.log1p(data_train)\n",
    "    data_test = np.log1p(data_test) \n",
    "        \n",
    "    Classifier = LinearSVC()\n",
    "    clf = CalibratedClassifierCV(Classifier, cv=3)\n",
    "\n",
    "    pred = []\n",
    "    probability = [] \n",
    "    \n",
    "    clf.fit(data_train, labels_train.values.ravel())\n",
    "    predicted = clf.predict(data_test)\n",
    "    prob = np.max(clf.predict_proba(data_test), axis = 1)\n",
    "    unlabeled = np.where(prob < Threshold)\n",
    "    predicted[unlabeled] = 'Unknown'\n",
    "        \n",
    "    pred.extend(predicted)\n",
    "    probability.extend(prob)\n",
    "    \n",
    "    pred = pd.DataFrame(pred)\n",
    "    probability = pd.DataFrame(probability)\n",
    "    \n",
    "    pred.to_csv(str(OutputDir) + \"SVMrej_Pred_Labels.csv\", index = False)\n",
    "    probability.to_csv(str(OutputDir) + \"SVMrej_Prob.csv\", index = False)\n",
    "    "
   ]
  },
  {
   "cell_type": "markdown",
   "id": "7378d166",
   "metadata": {},
   "source": [
    "## Annotate:"
   ]
  },
  {
   "cell_type": "markdown",
   "id": "e0d94b06",
   "metadata": {},
   "source": [
    "Annotate Jos data from meta atlas"
   ]
  },
  {
   "cell_type": "code",
   "execution_count": 4,
   "id": "6a40f126",
   "metadata": {},
   "outputs": [],
   "source": [
    "training = read_h5ad(\"test_dat_meta.h5ad\")\n",
    "testing = read_h5ad(\"kera.h5ad\")"
   ]
  },
  {
   "cell_type": "code",
   "execution_count": 6,
   "id": "733d4235",
   "metadata": {},
   "outputs": [],
   "source": [
    "# load data:\n",
    "# training data\n",
    "matrix_train = pd.DataFrame.sparse.from_spmatrix(training.X, index=list(training.obs.index.values), columns=list(training.var.index.values))\n",
    "\n",
    "# testing data\n",
    "matrix_test = pd.DataFrame.sparse.from_spmatrix(testing.X, index=list(testing.obs.index.values), columns=list(testing.var.index.values))"
   ]
  },
  {
   "cell_type": "code",
   "execution_count": 7,
   "id": "3e61bf37",
   "metadata": {},
   "outputs": [],
   "source": [
    "# subselect the train matrix for values that are present in both\n",
    "df_all = training.var[[\"features\"]].merge(testing.var[[\"features\"]].drop_duplicates(), on=['features'], \n",
    "                   how='left', indicator=True)\n",
    "df_all\n",
    "df_all['_merge'] == 'left_only'\n",
    "training1 = df_all[df_all['_merge'] == 'both']\n",
    "col_one_list = training1['features'].tolist()\n",
    "\n",
    "matrix_test = matrix_test[matrix_test.columns.intersection(col_one_list)]\n",
    "matrix_train = matrix_train[matrix_train.columns.intersection(col_one_list)]\n",
    "matrix_train = matrix_train[list(matrix_test.columns)]"
   ]
  },
  {
   "cell_type": "code",
   "execution_count": 8,
   "id": "9b25a283",
   "metadata": {},
   "outputs": [],
   "source": [
    "# Convert the ordered dataframes back to nparrays\n",
    "matrix_train2 = matrix_train.to_numpy()\n",
    "matrix_test2 = matrix_test.to_numpy()"
   ]
  },
  {
   "cell_type": "code",
   "execution_count": 9,
   "id": "a0f1273b",
   "metadata": {},
   "outputs": [],
   "source": [
    "# run functions:\n",
    "run_SVM(matrix_train=matrix_train2,matrix_test=matrix_test2,\n",
    "        LabelsPathTrain = \"/ceph/rimlsfnwi/data/moldevbio/zhou/jarts/R/predictions/20220328/training_labels_meta.csv\",\n",
    "        OutputDir = \"predictions_kera/\")"
   ]
  },
  {
   "cell_type": "code",
   "execution_count": 10,
   "id": "682cc59e",
   "metadata": {},
   "outputs": [],
   "source": [
    "run_SVMrej(matrix_train=matrix_train2,matrix_test=matrix_test2,\n",
    "        LabelsPathTrain = \"/ceph/rimlsfnwi/data/moldevbio/zhou/jarts/R/predictions/20220328/training_labels_meta.csv\",\n",
    "        OutputDir = \"predictions_kera/\")"
   ]
  }
 ],
 "metadata": {
  "kernelspec": {
   "display_name": "Python 3 (ipykernel)",
   "language": "python",
   "name": "python3"
  },
  "language_info": {
   "codemirror_mode": {
    "name": "ipython",
    "version": 3
   },
   "file_extension": ".py",
   "mimetype": "text/x-python",
   "name": "python",
   "nbconvert_exporter": "python",
   "pygments_lexer": "ipython3",
   "version": "3.10.2"
  }
 },
 "nbformat": 4,
 "nbformat_minor": 5
}
